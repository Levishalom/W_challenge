{
 "cells": [
  {
   "cell_type": "code",
   "execution_count": 1,
   "metadata": {},
   "outputs": [],
   "source": [
    "def double_buble(x):\n",
    "    x=x.upper()\n",
    "    x=x.replace(' ','.')\n",
    "\n",
    "    first=[]\n",
    "    second=[]\n",
    "    third=[]\n",
    "    fourth=[1]\n",
    "\n",
    "\n",
    "    while (len(first)==len(second)==len(third)==len(fourth))==False:\n",
    "\n",
    "        \n",
    "        first=x[0: len(x)//3]\n",
    "        second=x[len(x)//3: len(x)//3+len(x)//6]\n",
    "        third=x[len(x)//3+len(x)//6: len(x)//3+len(x)//3]\n",
    "        fourth=x[len(x)//3+len(x)//3: len(x)]\n",
    "\n",
    "        if len(second)>len(third):\n",
    "            third=third+fourth[0]\n",
    "            fourth=fourth[1:]\n",
    "        elif len(second)<len(third):\n",
    "            second=second+third[0]\n",
    "            third=third[1:]\n",
    "            third=third+fourth[0]\n",
    "            fourth=fourth[1:]\n",
    "\n",
    "        second=second+(len(first)-len(second))*' '\n",
    "        second=''.join(reversed(second))\n",
    "\n",
    "        third=(len(first)-len(third))*' '+third\n",
    "\n",
    "        fourth=''.join(reversed(fourth))  \n",
    "\n",
    "        x=x+'.'\n",
    "\n",
    "        \n",
    "\n",
    "    import pandas as pd\n",
    "    df=pd.DataFrame({'f':list(first),'s':list(second),'t':list(third),'fr':list(fourth)})\n",
    "    \n",
    "    for i in range(0,len(first)):\n",
    "        if df.s[i]!=' ' and df.t[i]!=' ':\n",
    "        \n",
    "            print(\n",
    "\n",
    "                    i*' ',\n",
    "\n",
    "                        df.f[i],\n",
    "\n",
    "                    (2*(len(first)-i))*' ',\n",
    "\n",
    "                        df.s[i],\n",
    "\n",
    "                    (2*i-len(df.f)+1)*' ',\n",
    "\n",
    "                        df.t[i],\n",
    "\n",
    "                    (2*(len(first)-i))*' ',\n",
    "                    \n",
    "                        df.fr[i]\n",
    "                )\n",
    "        else:\n",
    "\n",
    "            print(\n",
    "                \n",
    "                    i*' ',\n",
    "\n",
    "                        df.f[i],\n",
    "\n",
    "                    (2*(len(first)-i))*' '+(' '*(df.shape[0]+7)),\n",
    "                    \n",
    "                        df.fr[i]\n",
    "\n",
    "            )\n"
   ]
  },
  {
   "cell_type": "code",
   "execution_count": 2,
   "metadata": {},
   "outputs": [
    {
     "name": "stdout",
     "output_type": "stream",
     "text": [
      " N                                                            .\n",
      "  O                                                          E\n",
      "   W                                                        N\n",
      "    .                                                      I\n",
      "     I                                                    F\n",
      "      .                                                  .\n",
      "       A                                                T\n",
      "        M                                              S\n",
      "         .                    E  .                    U\n",
      "          S                  D    I                  J\n",
      "           U                O      S                .\n",
      "            R              C        .              E\n",
      "             E            .          G            B\n",
      "              .          Y            O          .\n",
      "               T        M              I        O\n",
      "                H      .                N      T\n",
      "                 A    T                  G    .\n"
     ]
    }
   ],
   "source": [
    "double_buble('Now I am sure that my code is going to be just fine')"
   ]
  },
  {
   "cell_type": "code",
   "execution_count": 3,
   "metadata": {},
   "outputs": [
    {
     "name": "stdout",
     "output_type": "stream",
     "text": [
      " A                                                                     .\n",
      "  T                                                                   G\n",
      "   .                                                                 N\n",
      "    L                                                               O\n",
      "     A                                                             L\n",
      "      S                                                           A\n",
      "       T                                                         .\n",
      "        .                                                       E\n",
      "         M                                                     M\n",
      "          Y                                                   O\n",
      "           .                      Y   U                      C\n",
      "            L                    B     V                    .\n",
      "             O                  I       T                  S\n",
      "              V                U         I                A\n",
      "               E              I           C              M\n",
      "                .            N             U            U\n",
      "                 H          U               R          N\n",
      "                  T        B                 T        I\n",
      "                   R      V                   V      O\n",
      "                    C    Y                     B    U\n"
     ]
    }
   ],
   "source": [
    "double_buble('At last my love htrcyvbuniuibyuvticurtvbuoinumas come along')"
   ]
  },
  {
   "cell_type": "code",
   "execution_count": null,
   "metadata": {},
   "outputs": [],
   "source": []
  }
 ],
 "metadata": {
  "interpreter": {
   "hash": "2fd276fd1bc2193d189cca7e4f9c0516854469f068cf6d6515bec58041aa833c"
  },
  "kernelspec": {
   "display_name": "Python 3.7.11 ('python37': conda)",
   "language": "python",
   "name": "python3"
  },
  "language_info": {
   "codemirror_mode": {
    "name": "ipython",
    "version": 3
   },
   "file_extension": ".py",
   "mimetype": "text/x-python",
   "name": "python",
   "nbconvert_exporter": "python",
   "pygments_lexer": "ipython3",
   "version": "3.7.11"
  },
  "orig_nbformat": 4
 },
 "nbformat": 4,
 "nbformat_minor": 2
}
